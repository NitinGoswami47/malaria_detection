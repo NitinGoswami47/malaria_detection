{
  "nbformat": 4,
  "nbformat_minor": 0,
  "metadata": {
    "colab": {
      "name": "Malaria_Detection.ipynb",
      "provenance": [],
      "collapsed_sections": []
    },
    "kernelspec": {
      "name": "python3",
      "display_name": "Python 3"
    },
    "accelerator": "GPU"
  },
  "cells": [
    {
      "cell_type": "code",
      "metadata": {
        "colab": {
          "base_uri": "https://localhost:8080/"
        },
        "id": "ssLBvq9uil4X",
        "outputId": "7982a071-abfb-4195-8fcd-36b0b8bf6bdc"
      },
      "source": [
        "from google.colab import drive\r\n",
        "drive.mount('/content/drive/')"
      ],
      "execution_count": 7,
      "outputs": [
        {
          "output_type": "stream",
          "text": [
            "Drive already mounted at /content/drive/; to attempt to forcibly remount, call drive.mount(\"/content/drive/\", force_remount=True).\n"
          ],
          "name": "stdout"
        }
      ]
    },
    {
      "cell_type": "code",
      "metadata": {
        "id": "qZhRJ1CsinyM"
      },
      "source": [
        "!pip install -q keras"
      ],
      "execution_count": 8,
      "outputs": []
    },
    {
      "cell_type": "code",
      "metadata": {
        "id": "_4IlIPhKioaj"
      },
      "source": [
        "from keras.models import Model\r\n",
        "from keras.applications.vgg19 import VGG19\r\n",
        "from keras.applications.resnet50 import preprocess_input\r\n",
        "from keras.preprocessing import image\r\n",
        "from keras.preprocessing.image import ImageDataGenerator,load_img\r\n",
        "import numpy as np\r\n",
        "from glob import glob\r\n",
        "import matplotlib.pyplot as plt"
      ],
      "execution_count": 75,
      "outputs": []
    },
    {
      "cell_type": "code",
      "metadata": {
        "id": "y3PbCe4ur_da"
      },
      "source": [
        "# Resize all the images to this\r\n",
        "IMAGE_SIZE = [224, 224]\r\n",
        "\r\n",
        "train_path = '/content/drive/MyDrive/Dataset/Train'\r\n",
        "valid_path = '/content/drive/MyDrive/Dataset/Test'"
      ],
      "execution_count": 76,
      "outputs": []
    },
    {
      "cell_type": "code",
      "metadata": {
        "id": "LNwpLU31sLbI"
      },
      "source": [
        "# Import the Vgg 19 library as shown below and add preprocessing layer to the front of VGG\r\n",
        "# Here we will be using imagenet weights\r\n",
        "\r\n",
        "vgg19 = VGG19(input_shape=IMAGE_SIZE + [3], weights='imagenet', include_top=False)"
      ],
      "execution_count": 77,
      "outputs": []
    },
    {
      "cell_type": "code",
      "metadata": {
        "id": "VczqI9W8tsRz"
      },
      "source": [
        "# Don't train existing weights\r\n",
        "for layer in vgg19.layers:\r\n",
        "    layer.trainable = False"
      ],
      "execution_count": 78,
      "outputs": []
    },
    {
      "cell_type": "code",
      "metadata": {
        "id": "HIootl51txn-"
      },
      "source": [
        "# useful for getting number of output classes\r\n",
        "from glob import glob\r\n",
        "folders = glob('/content/drive/MyDrive/Dataset/*')"
      ],
      "execution_count": 79,
      "outputs": []
    },
    {
      "cell_type": "code",
      "metadata": {
        "colab": {
          "base_uri": "https://localhost:8080/"
        },
        "id": "pdT1V24suerI",
        "outputId": "f109322b-2dd0-4d8a-cc33-6ff0762eff61"
      },
      "source": [
        "folders"
      ],
      "execution_count": 80,
      "outputs": [
        {
          "output_type": "execute_result",
          "data": {
            "text/plain": [
              "['/content/drive/MyDrive/Dataset/Train', '/content/drive/MyDrive/Dataset/Test']"
            ]
          },
          "metadata": {
            "tags": []
          },
          "execution_count": 80
        }
      ]
    },
    {
      "cell_type": "code",
      "metadata": {
        "id": "OIHTFKVjupaa"
      },
      "source": [
        "# our layers - you can add more if you want\r\n",
        "x = Flatten()(vgg19.output)"
      ],
      "execution_count": 81,
      "outputs": []
    },
    {
      "cell_type": "code",
      "metadata": {
        "id": "BWWLVzQtkKSc"
      },
      "source": [
        "prediction = Dense(len(folders), activation='softmax')(x)\r\n",
        "\r\n",
        "# create a model object\r\n",
        "model = Model(inputs=vgg19.input, outputs=prediction)"
      ],
      "execution_count": 82,
      "outputs": []
    },
    {
      "cell_type": "code",
      "metadata": {
        "colab": {
          "base_uri": "https://localhost:8080/"
        },
        "id": "JVKu1w0WkSQp",
        "outputId": "588d7aa3-1d91-4ae7-8b0d-50c15dff2578"
      },
      "source": [
        "model.summary()"
      ],
      "execution_count": 83,
      "outputs": [
        {
          "output_type": "stream",
          "text": [
            "Model: \"model_1\"\n",
            "_________________________________________________________________\n",
            "Layer (type)                 Output Shape              Param #   \n",
            "=================================================================\n",
            "input_4 (InputLayer)         [(None, 224, 224, 3)]     0         \n",
            "_________________________________________________________________\n",
            "block1_conv1 (Conv2D)        (None, 224, 224, 64)      1792      \n",
            "_________________________________________________________________\n",
            "block1_conv2 (Conv2D)        (None, 224, 224, 64)      36928     \n",
            "_________________________________________________________________\n",
            "block1_pool (MaxPooling2D)   (None, 112, 112, 64)      0         \n",
            "_________________________________________________________________\n",
            "block2_conv1 (Conv2D)        (None, 112, 112, 128)     73856     \n",
            "_________________________________________________________________\n",
            "block2_conv2 (Conv2D)        (None, 112, 112, 128)     147584    \n",
            "_________________________________________________________________\n",
            "block2_pool (MaxPooling2D)   (None, 56, 56, 128)       0         \n",
            "_________________________________________________________________\n",
            "block3_conv1 (Conv2D)        (None, 56, 56, 256)       295168    \n",
            "_________________________________________________________________\n",
            "block3_conv2 (Conv2D)        (None, 56, 56, 256)       590080    \n",
            "_________________________________________________________________\n",
            "block3_conv3 (Conv2D)        (None, 56, 56, 256)       590080    \n",
            "_________________________________________________________________\n",
            "block3_conv4 (Conv2D)        (None, 56, 56, 256)       590080    \n",
            "_________________________________________________________________\n",
            "block3_pool (MaxPooling2D)   (None, 28, 28, 256)       0         \n",
            "_________________________________________________________________\n",
            "block4_conv1 (Conv2D)        (None, 28, 28, 512)       1180160   \n",
            "_________________________________________________________________\n",
            "block4_conv2 (Conv2D)        (None, 28, 28, 512)       2359808   \n",
            "_________________________________________________________________\n",
            "block4_conv3 (Conv2D)        (None, 28, 28, 512)       2359808   \n",
            "_________________________________________________________________\n",
            "block4_conv4 (Conv2D)        (None, 28, 28, 512)       2359808   \n",
            "_________________________________________________________________\n",
            "block4_pool (MaxPooling2D)   (None, 14, 14, 512)       0         \n",
            "_________________________________________________________________\n",
            "block5_conv1 (Conv2D)        (None, 14, 14, 512)       2359808   \n",
            "_________________________________________________________________\n",
            "block5_conv2 (Conv2D)        (None, 14, 14, 512)       2359808   \n",
            "_________________________________________________________________\n",
            "block5_conv3 (Conv2D)        (None, 14, 14, 512)       2359808   \n",
            "_________________________________________________________________\n",
            "block5_conv4 (Conv2D)        (None, 14, 14, 512)       2359808   \n",
            "_________________________________________________________________\n",
            "block5_pool (MaxPooling2D)   (None, 7, 7, 512)         0         \n",
            "_________________________________________________________________\n",
            "flatten_1 (Flatten)          (None, 25088)             0         \n",
            "_________________________________________________________________\n",
            "dense_1 (Dense)              (None, 2)                 50178     \n",
            "=================================================================\n",
            "Total params: 20,074,562\n",
            "Trainable params: 50,178\n",
            "Non-trainable params: 20,024,384\n",
            "_________________________________________________________________\n"
          ],
          "name": "stdout"
        }
      ]
    },
    {
      "cell_type": "code",
      "metadata": {
        "id": "428yI733kV2G"
      },
      "source": [
        "# tell the model what cost and optimization method to use\r\n",
        "model.compile(\r\n",
        "  loss='categorical_crossentropy',\r\n",
        "  optimizer='adam',\r\n",
        "  metrics=['accuracy']\r\n",
        ")"
      ],
      "execution_count": 84,
      "outputs": []
    },
    {
      "cell_type": "code",
      "metadata": {
        "id": "MCnELCltkclZ"
      },
      "source": [
        "# Use the Image Data Generator to import the images from the dataset\r\n",
        "from tensorflow.keras.preprocessing.image import ImageDataGenerator\r\n",
        "\r\n",
        "train_datagen = ImageDataGenerator(rescale = 1./255,\r\n",
        "                                   shear_range = 0.2,\r\n",
        "                                   zoom_range = 0.2,\r\n",
        "                                   horizontal_flip = True)\r\n",
        "\r\n",
        "test_datagen = ImageDataGenerator(rescale = 1./255)"
      ],
      "execution_count": 85,
      "outputs": []
    },
    {
      "cell_type": "code",
      "metadata": {
        "colab": {
          "base_uri": "https://localhost:8080/"
        },
        "id": "vh46WUCPkidU",
        "outputId": "a7767875-9f65-4695-b78b-0af5e68ea95f"
      },
      "source": [
        "# Make sure you provide the same target size as initialied for the image size\r\n",
        "training_set = train_datagen.flow_from_directory('/content/drive/MyDrive/Dataset/Train',\r\n",
        "                                                 target_size = (224, 224),\r\n",
        "                                                 batch_size = 32,\r\n",
        "                                                 class_mode = 'categorical')\r\n",
        "test_set = test_datagen.flow_from_directory('/content/drive/MyDrive/Dataset/Test',\r\n",
        "                                            target_size = (224, 224),\r\n",
        "                                            batch_size = 32,\r\n",
        "                                            class_mode = 'categorical')\r\n",
        "training_set\r\n",
        "test_set"
      ],
      "execution_count": 86,
      "outputs": [
        {
          "output_type": "stream",
          "text": [
            "Found 416 images belonging to 2 classes.\n",
            "Found 134 images belonging to 2 classes.\n"
          ],
          "name": "stdout"
        },
        {
          "output_type": "execute_result",
          "data": {
            "text/plain": [
              "<tensorflow.python.keras.preprocessing.image.DirectoryIterator at 0x7f493a06a350>"
            ]
          },
          "metadata": {
            "tags": []
          },
          "execution_count": 86
        }
      ]
    },
    {
      "cell_type": "code",
      "metadata": {
        "colab": {
          "base_uri": "https://localhost:8080/"
        },
        "id": "-LaHrdwwk6FP",
        "outputId": "ed9dede1-949f-4560-c179-f7b00895e7eb"
      },
      "source": [
        "# fit the model\r\n",
        "# Run the cell. It will take some time to execute\r\n",
        "r = model.fit(\r\n",
        "  training_set,\r\n",
        "  validation_data=test_set,\r\n",
        "  epochs=10,\r\n",
        "  steps_per_epoch=len(training_set),\r\n",
        "  validation_steps=len(test_set)\r\n",
        ")"
      ],
      "execution_count": 87,
      "outputs": [
        {
          "output_type": "stream",
          "text": [
            "Epoch 1/10\n",
            "13/13 [==============================] - 7s 476ms/step - loss: 1.8470 - accuracy: 0.4953 - val_loss: 1.2898 - val_accuracy: 0.6791\n",
            "Epoch 2/10\n",
            "13/13 [==============================] - 6s 459ms/step - loss: 1.0761 - accuracy: 0.6198 - val_loss: 0.7015 - val_accuracy: 0.6269\n",
            "Epoch 3/10\n",
            "13/13 [==============================] - 6s 459ms/step - loss: 0.4845 - accuracy: 0.7655 - val_loss: 0.5566 - val_accuracy: 0.7164\n",
            "Epoch 4/10\n",
            "13/13 [==============================] - 6s 461ms/step - loss: 0.3753 - accuracy: 0.8325 - val_loss: 0.4225 - val_accuracy: 0.7687\n",
            "Epoch 5/10\n",
            "13/13 [==============================] - 6s 459ms/step - loss: 0.3524 - accuracy: 0.8637 - val_loss: 0.4144 - val_accuracy: 0.7612\n",
            "Epoch 6/10\n",
            "13/13 [==============================] - 6s 454ms/step - loss: 0.3020 - accuracy: 0.9006 - val_loss: 0.4542 - val_accuracy: 0.8060\n",
            "Epoch 7/10\n",
            "13/13 [==============================] - 6s 454ms/step - loss: 0.2836 - accuracy: 0.8932 - val_loss: 0.4318 - val_accuracy: 0.8060\n",
            "Epoch 8/10\n",
            "13/13 [==============================] - 6s 453ms/step - loss: 0.2418 - accuracy: 0.9141 - val_loss: 0.4206 - val_accuracy: 0.7985\n",
            "Epoch 9/10\n",
            "13/13 [==============================] - 6s 458ms/step - loss: 0.2331 - accuracy: 0.9261 - val_loss: 0.3815 - val_accuracy: 0.8284\n",
            "Epoch 10/10\n",
            "13/13 [==============================] - 6s 454ms/step - loss: 0.2175 - accuracy: 0.9301 - val_loss: 0.3624 - val_accuracy: 0.8358\n"
          ],
          "name": "stdout"
        }
      ]
    },
    {
      "cell_type": "code",
      "metadata": {
        "colab": {
          "base_uri": "https://localhost:8080/",
          "height": 531
        },
        "id": "QrYoIWa0lGmz",
        "outputId": "0785b4c7-77ad-487e-a41b-c8f9494e8c19"
      },
      "source": [
        "# plot the loss\r\n",
        "plt.plot(r.history['loss'], label='train loss')\r\n",
        "plt.plot(r.history['val_loss'], label='val loss')\r\n",
        "plt.legend()\r\n",
        "plt.show()\r\n",
        "plt.savefig('LossVal_loss')\r\n",
        "\r\n",
        "# plot the accuracy\r\n",
        "plt.plot(r.history['accuracy'], label='train acc')\r\n",
        "plt.plot(r.history['val_accuracy'], label='val acc')\r\n",
        "plt.legend()\r\n",
        "plt.show()\r\n",
        "plt.savefig('AccVal_acc')"
      ],
      "execution_count": 88,
      "outputs": [
        {
          "output_type": "display_data",
          "data": {
            "image/png": "[encoded data removed]",
            "text/plain": [
              "<Figure size 432x288 with 1 Axes>"
            ]
          },
          "metadata": {
            "tags": [],
            "needs_background": "light"
          }
        },
        {
          "output_type": "display_data",
          "data": {
            "image/png": "[encoded data removed]",
            "text/plain": [
              "<Figure size 432x288 with 1 Axes>"
            ]
          },
          "metadata": {
            "tags": [],
            "needs_background": "light"
          }
        },
        {
          "output_type": "display_data",
          "data": {
            "text/plain": [
              "<Figure size 432x288 with 0 Axes>"
            ]
          },
          "metadata": {
            "tags": []
          }
        }
      ]
    },
    {
      "cell_type": "code",
      "metadata": {
        "id": "TVzwBTR1mdPo"
      },
      "source": [
        "# save it as a h5 file\r\n",
        "from tensorflow.keras.models import load_model\r\n",
        "model.save('model_vgg19.h5')"
      ],
      "execution_count": 89,
      "outputs": []
    },
    {
      "cell_type": "code",
      "metadata": {
        "colab": {
          "base_uri": "https://localhost:8080/"
        },
        "id": "7sAcuqD4mi82",
        "outputId": "d7374534-ead0-44bc-dfd7-c618a396e690"
      },
      "source": [
        "y_pred = model.predict(test_set)\r\n",
        "y_pred"
      ],
      "execution_count": 90,
      "outputs": [
        {
          "output_type": "execute_result",
          "data": {
            "text/plain": [
              "array([[7.21524537e-01, 2.78475493e-01],\n",
              "       [9.14891362e-01, 8.51085782e-02],\n",
              "       [3.07071954e-01, 6.92928076e-01],\n",
              "       [8.52705240e-01, 1.47294804e-01],\n",
              "       [5.39147139e-01, 4.60852861e-01],\n",
              "       [7.07600951e-01, 2.92399019e-01],\n",
              "       [9.43543255e-01, 5.64567782e-02],\n",
              "       [4.55945492e-01, 5.44054508e-01],\n",
              "       [4.36432511e-01, 5.63567519e-01],\n",
              "       [2.36304253e-01, 7.63695717e-01],\n",
              "       [5.77724874e-01, 4.22275156e-01],\n",
              "       [9.63907003e-01, 3.60930413e-02],\n",
              "       [7.45837450e-01, 2.54162610e-01],\n",
              "       [1.86316192e-01, 8.13683808e-01],\n",
              "       [8.05514455e-01, 1.94485560e-01],\n",
              "       [3.91836315e-01, 6.08163714e-01],\n",
              "       [9.94636595e-01, 5.36342105e-03],\n",
              "       [9.75829363e-01, 2.41706427e-02],\n",
              "       [6.04367018e-01, 3.95632982e-01],\n",
              "       [1.86349094e-01, 8.13650906e-01],\n",
              "       [1.00352012e-01, 8.99648011e-01],\n",
              "       [9.99737680e-01, 2.62304820e-04],\n",
              "       [2.28909969e-01, 7.71090031e-01],\n",
              "       [3.21519822e-01, 6.78480148e-01],\n",
              "       [7.39616513e-01, 2.60383427e-01],\n",
              "       [9.30589497e-01, 6.94105476e-02],\n",
              "       [2.32677847e-01, 7.67322123e-01],\n",
              "       [1.62194669e-01, 8.37805331e-01],\n",
              "       [8.05049539e-01, 1.94950506e-01],\n",
              "       [9.78998482e-01, 2.10015662e-02],\n",
              "       [5.31872213e-01, 4.68127728e-01],\n",
              "       [6.99861273e-02, 9.30013895e-01],\n",
              "       [8.11222315e-01, 1.88777715e-01],\n",
              "       [1.23705722e-01, 8.76294255e-01],\n",
              "       [3.23382556e-01, 6.76617444e-01],\n",
              "       [9.99162197e-01, 8.37848813e-04],\n",
              "       [4.54809397e-01, 5.45190632e-01],\n",
              "       [1.06075816e-01, 8.93924236e-01],\n",
              "       [9.93621886e-01, 6.37815287e-03],\n",
              "       [1.51770055e-01, 8.48229945e-01],\n",
              "       [1.29825398e-01, 8.70174646e-01],\n",
              "       [9.60684836e-01, 3.93150970e-02],\n",
              "       [5.03811479e-01, 4.96188492e-01],\n",
              "       [1.31330833e-01, 8.68669212e-01],\n",
              "       [9.71566260e-01, 2.84337383e-02],\n",
              "       [1.70978978e-01, 8.29020977e-01],\n",
              "       [8.49928558e-01, 1.50071397e-01],\n",
              "       [9.99201238e-01, 7.98812194e-04],\n",
              "       [5.76586187e-01, 4.23413843e-01],\n",
              "       [7.02961504e-01, 2.97038496e-01],\n",
              "       [9.62498248e-01, 3.75018120e-02],\n",
              "       [3.12813014e-01, 6.87187016e-01],\n",
              "       [7.33849466e-01, 2.66150504e-01],\n",
              "       [1.61851138e-01, 8.38148892e-01],\n",
              "       [2.05494314e-01, 7.94505715e-01],\n",
              "       [1.73600212e-01, 8.26399744e-01],\n",
              "       [6.28986895e-01, 3.71013135e-01],\n",
              "       [2.89238364e-01, 7.10761666e-01],\n",
              "       [3.26986104e-01, 6.73013866e-01],\n",
              "       [9.55175400e-01, 4.48246561e-02],\n",
              "       [4.06429350e-01, 5.93570709e-01],\n",
              "       [9.93652701e-01, 6.34727348e-03],\n",
              "       [9.91084993e-01, 8.91499035e-03],\n",
              "       [2.05721140e-01, 7.94278860e-01],\n",
              "       [3.32363874e-01, 6.67636156e-01],\n",
              "       [1.39071822e-01, 8.60928178e-01],\n",
              "       [6.88262701e-01, 3.11737299e-01],\n",
              "       [8.13169599e-01, 1.86830401e-01],\n",
              "       [7.05649078e-01, 2.94350982e-01],\n",
              "       [5.45924604e-01, 4.54075336e-01],\n",
              "       [9.66009617e-01, 3.39904539e-02],\n",
              "       [9.47582185e-01, 5.24178185e-02],\n",
              "       [7.80203164e-01, 2.19796851e-01],\n",
              "       [3.92245710e-01, 6.07754290e-01],\n",
              "       [1.47985458e-01, 8.52014542e-01],\n",
              "       [2.17949018e-01, 7.82050967e-01],\n",
              "       [2.44173408e-01, 7.55826592e-01],\n",
              "       [2.17065230e-01, 7.82934725e-01],\n",
              "       [9.93699193e-01, 6.30080793e-03],\n",
              "       [2.91181028e-01, 7.08818972e-01],\n",
              "       [1.82984948e-01, 8.17015052e-01],\n",
              "       [2.32932359e-01, 7.67067671e-01],\n",
              "       [1.30785137e-01, 8.69214833e-01],\n",
              "       [7.92114362e-02, 9.20788586e-01],\n",
              "       [4.26588595e-01, 5.73411345e-01],\n",
              "       [8.79322171e-01, 1.20677821e-01],\n",
              "       [7.43944108e-01, 2.56055892e-01],\n",
              "       [9.47757244e-01, 5.22427745e-02],\n",
              "       [9.45730925e-01, 5.42690195e-02],\n",
              "       [2.01078862e-01, 7.98921108e-01],\n",
              "       [9.31762338e-01, 6.82376102e-02],\n",
              "       [5.73971048e-02, 9.42602932e-01],\n",
              "       [5.77960849e-01, 4.22039121e-01],\n",
              "       [5.09013951e-01, 4.90986079e-01],\n",
              "       [1.52150869e-01, 8.47849131e-01],\n",
              "       [1.14392057e-01, 8.85607958e-01],\n",
              "       [9.78721142e-01, 2.12789197e-02],\n",
              "       [2.48358950e-01, 7.51641035e-01],\n",
              "       [5.64750075e-01, 4.35249954e-01],\n",
              "       [9.34114814e-01, 6.58852160e-02],\n",
              "       [5.53820848e-01, 4.46179181e-01],\n",
              "       [2.19271854e-01, 7.80728161e-01],\n",
              "       [8.80661190e-01, 1.19338736e-01],\n",
              "       [1.09759644e-01, 8.90240312e-01],\n",
              "       [4.23938632e-01, 5.76061368e-01],\n",
              "       [1.77414626e-01, 8.22585344e-01],\n",
              "       [9.79057193e-01, 2.09428333e-02],\n",
              "       [9.82011199e-01, 1.79887787e-02],\n",
              "       [4.07717735e-01, 5.92282236e-01],\n",
              "       [9.95297253e-01, 4.70276922e-03],\n",
              "       [2.48352334e-01, 7.51647651e-01],\n",
              "       [9.63150561e-01, 3.68494615e-02],\n",
              "       [9.48673964e-01, 5.13260514e-02],\n",
              "       [9.76784647e-01, 2.32153758e-02],\n",
              "       [9.98762488e-01, 1.23753655e-03],\n",
              "       [4.65654731e-01, 5.34345329e-01],\n",
              "       [2.12969482e-01, 7.87030518e-01],\n",
              "       [8.98881078e-01, 1.01118885e-01],\n",
              "       [2.13950828e-01, 7.86049128e-01],\n",
              "       [8.63033950e-01, 1.36966005e-01],\n",
              "       [9.55320239e-01, 4.46797609e-02],\n",
              "       [1.21301427e-01, 8.78698528e-01],\n",
              "       [9.05933499e-01, 9.40665305e-02],\n",
              "       [1.48827046e-01, 8.51172924e-01],\n",
              "       [9.50404465e-01, 4.95955124e-02],\n",
              "       [8.04968119e-01, 1.95031926e-01],\n",
              "       [3.75670671e-01, 6.24329329e-01],\n",
              "       [2.53869742e-01, 7.46130228e-01],\n",
              "       [9.64463890e-01, 3.55360955e-02],\n",
              "       [5.65189086e-02, 9.43481028e-01],\n",
              "       [9.90434289e-01, 9.56567191e-03],\n",
              "       [3.79168242e-01, 6.20831788e-01],\n",
              "       [1.35757148e-01, 8.64242852e-01],\n",
              "       [5.58134019e-01, 4.41865981e-01]], dtype=float32)"
            ]
          },
          "metadata": {
            "tags": []
          },
          "execution_count": 90
        }
      ]
    },
    {
      "cell_type": "code",
      "metadata": {
        "id": "czrL_1GympKF"
      },
      "source": [
        "from tensorflow.keras.models import load_model\r\n",
        "model=load_model('model_vgg19.h5')"
      ],
      "execution_count": 91,
      "outputs": []
    },
    {
      "cell_type": "code",
      "metadata": {
        "id": "ENebx1rWm31j"
      },
      "source": [
        "img=image.load_img('/content/drive/MyDrive/Dataset/Test/Uninfected/C3thin_original_IMG_20150608_162922_cell_205.png',target_size=(224,224))"
      ],
      "execution_count": 92,
      "outputs": []
    },
    {
      "cell_type": "code",
      "metadata": {
        "colab": {
          "base_uri": "https://localhost:8080/"
        },
        "id": "AlcUSFgznRBz",
        "outputId": "edec667c-c01b-4c56-ead0-0a40e388c5df"
      },
      "source": [
        "x=image.img_to_array(img)\r\n",
        "x"
      ],
      "execution_count": 93,
      "outputs": [
        {
          "output_type": "execute_result",
          "data": {
            "text/plain": [
              "array([[[0., 0., 0.],\n",
              "        [0., 0., 0.],\n",
              "        [0., 0., 0.],\n",
              "        ...,\n",
              "        [0., 0., 0.],\n",
              "        [0., 0., 0.],\n",
              "        [0., 0., 0.]],\n",
              "\n",
              "       [[0., 0., 0.],\n",
              "        [0., 0., 0.],\n",
              "        [0., 0., 0.],\n",
              "        ...,\n",
              "        [0., 0., 0.],\n",
              "        [0., 0., 0.],\n",
              "        [0., 0., 0.]],\n",
              "\n",
              "       [[0., 0., 0.],\n",
              "        [0., 0., 0.],\n",
              "        [0., 0., 0.],\n",
              "        ...,\n",
              "        [0., 0., 0.],\n",
              "        [0., 0., 0.],\n",
              "        [0., 0., 0.]],\n",
              "\n",
              "       ...,\n",
              "\n",
              "       [[0., 0., 0.],\n",
              "        [0., 0., 0.],\n",
              "        [0., 0., 0.],\n",
              "        ...,\n",
              "        [0., 0., 0.],\n",
              "        [0., 0., 0.],\n",
              "        [0., 0., 0.]],\n",
              "\n",
              "       [[0., 0., 0.],\n",
              "        [0., 0., 0.],\n",
              "        [0., 0., 0.],\n",
              "        ...,\n",
              "        [0., 0., 0.],\n",
              "        [0., 0., 0.],\n",
              "        [0., 0., 0.]],\n",
              "\n",
              "       [[0., 0., 0.],\n",
              "        [0., 0., 0.],\n",
              "        [0., 0., 0.],\n",
              "        ...,\n",
              "        [0., 0., 0.],\n",
              "        [0., 0., 0.],\n",
              "        [0., 0., 0.]]], dtype=float32)"
            ]
          },
          "metadata": {
            "tags": []
          },
          "execution_count": 93
        }
      ]
    },
    {
      "cell_type": "code",
      "metadata": {
        "colab": {
          "base_uri": "https://localhost:8080/"
        },
        "id": "s9rO1e_FnwMQ",
        "outputId": "0dda121a-6898-4a11-e943-8238b1504db6"
      },
      "source": [
        "x.shape"
      ],
      "execution_count": 94,
      "outputs": [
        {
          "output_type": "execute_result",
          "data": {
            "text/plain": [
              "(224, 224, 3)"
            ]
          },
          "metadata": {
            "tags": []
          },
          "execution_count": 94
        }
      ]
    },
    {
      "cell_type": "code",
      "metadata": {
        "id": "1-CRkUR5n6Op"
      },
      "source": [
        "x=x/255"
      ],
      "execution_count": 95,
      "outputs": []
    },
    {
      "cell_type": "code",
      "metadata": {
        "colab": {
          "base_uri": "https://localhost:8080/"
        },
        "id": "AG8AkPcHn_H4",
        "outputId": "f0e5895b-8365-48fa-f2fc-71712f310ed0"
      },
      "source": [
        "x=np.expand_dims(x,axis=0)\r\n",
        "img_data=preprocess_input(x)\r\n",
        "img_data.shape"
      ],
      "execution_count": 96,
      "outputs": [
        {
          "output_type": "execute_result",
          "data": {
            "text/plain": [
              "(1, 224, 224, 3)"
            ]
          },
          "metadata": {
            "tags": []
          },
          "execution_count": 96
        }
      ]
    },
    {
      "cell_type": "code",
      "metadata": {
        "colab": {
          "base_uri": "https://localhost:8080/"
        },
        "id": "-s6wK6HVoCG7",
        "outputId": "84894246-690c-4553-c2a2-1e5ff315a0da"
      },
      "source": [
        "model.predict(img_data)"
      ],
      "execution_count": 97,
      "outputs": [
        {
          "output_type": "execute_result",
          "data": {
            "text/plain": [
              "array([[0.0108006, 0.9891994]], dtype=float32)"
            ]
          },
          "metadata": {
            "tags": []
          },
          "execution_count": 97
        }
      ]
    },
    {
      "cell_type": "code",
      "metadata": {
        "id": "1TBJPmMfoFPP"
      },
      "source": [
        "a=np.argmax(model.predict(img_data), axis=1)"
      ],
      "execution_count": 98,
      "outputs": []
    },
    {
      "cell_type": "code",
      "metadata": {
        "colab": {
          "base_uri": "https://localhost:8080/"
        },
        "id": "kI7QuoLOoIRG",
        "outputId": "fb57a9e0-630c-41b9-80c5-e93b59005e0e"
      },
      "source": [
        "if(a==1):\r\n",
        "    print(\"Uninfected\")\r\n",
        "else:\r\n",
        "    print(\"Infected\")"
      ],
      "execution_count": 99,
      "outputs": [
        {
          "output_type": "stream",
          "text": [
            "Uninfected\n"
          ],
          "name": "stdout"
        }
      ]
    }
  ]
}